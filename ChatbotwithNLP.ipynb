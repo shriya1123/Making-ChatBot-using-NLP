{
 "cells": [
  {
   "cell_type": "code",
   "execution_count": 1,
   "metadata": {},
   "outputs": [],
   "source": [
    "from nltk.chat.util import Chat,reflections"
   ]
  },
  {
   "cell_type": "code",
   "execution_count": 2,
   "metadata": {},
   "outputs": [
    {
     "data": {
      "text/plain": [
       "{'i am': 'you are',\n",
       " 'i was': 'you were',\n",
       " 'i': 'you',\n",
       " \"i'm\": 'you are',\n",
       " \"i'd\": 'you would',\n",
       " \"i've\": 'you have',\n",
       " \"i'll\": 'you will',\n",
       " 'my': 'your',\n",
       " 'you are': 'I am',\n",
       " 'you were': 'I was',\n",
       " \"you've\": 'I have',\n",
       " \"you'll\": 'I will',\n",
       " 'your': 'my',\n",
       " 'yours': 'mine',\n",
       " 'you': 'me',\n",
       " 'me': 'you'}"
      ]
     },
     "execution_count": 2,
     "metadata": {},
     "output_type": "execute_result"
    }
   ],
   "source": [
    "#Default reflections.You Can create your own reflections\n",
    "reflections"
   ]
  },
  {
   "cell_type": "code",
   "execution_count": 3,
   "metadata": {},
   "outputs": [
    {
     "data": {
      "text/plain": [
       "nltk.chat.util.Chat"
      ]
     },
     "execution_count": 3,
     "metadata": {},
     "output_type": "execute_result"
    }
   ],
   "source": [
    "Chat"
   ]
  },
  {
   "cell_type": "code",
   "execution_count": 4,
   "metadata": {},
   "outputs": [],
   "source": [
    "#Plans is a list of Patterns and Responses.\n",
    "Plans=[\n",
    "    [\n",
    "        r\"(.*) plan(.*)\",\n",
    "        [\"We have 149 per month plan\",]\n",
    "    ],\n",
    "    [\n",
    "        r\"(.*)help(.*)\",\n",
    "        [\"I can help you\",]\n",
    "    ],\n",
    "    [\n",
    "        r\"(.*) your name ?\",\n",
    "        [\"My name is JARVIS and I'm a chatbot .\",]\n",
    "    ],\n",
    "    [\n",
    "        r\"how are you(.*) ?\",\n",
    "        [\"I am doing very well\",\"i an great !\",\"I am very cool!\"]\n",
    "        \n",
    "    ],\n",
    "    [\n",
    "        r\"sorry (.*)\",\n",
    "        [\"Its alright\",\"Its ok\",\"Never mind that\"]\n",
    "    ]]  \n",
    "        "
   ]
  },
  {
   "cell_type": "code",
   "execution_count": 6,
   "metadata": {},
   "outputs": [
    {
     "name": "stdout",
     "output_type": "stream",
     "text": [
      "Hi , I'm JARVIS and I like to chat\n",
      "Please type lowercase English language to start a coversation.type Quit to leave\n"
     ]
    }
   ],
   "source": [
    "#Default messag at the start of chat\n",
    "\n",
    "print(\"Hi , I'm JARVIS and I like to chat\\nPlease type lowercase English language to start a coversation.type Quit to leave\")\n",
    "\n",
    "#Create Chat Bot\n",
    "chat = Chat(Plans, reflections)"
   ]
  },
  {
   "cell_type": "code",
   "execution_count": null,
   "metadata": {},
   "outputs": [
    {
     "name": "stdout",
     "output_type": "stream",
     "text": [
      ">what is your name\n",
      "My name is JARVIS and I'm a chatbot .\n"
     ]
    }
   ],
   "source": [
    "chat.converse()"
   ]
  },
  {
   "cell_type": "code",
   "execution_count": null,
   "metadata": {},
   "outputs": [],
   "source": []
  },
  {
   "cell_type": "code",
   "execution_count": null,
   "metadata": {},
   "outputs": [],
   "source": []
  }
 ],
 "metadata": {
  "kernelspec": {
   "display_name": "Python 3",
   "language": "python",
   "name": "python3"
  },
  "language_info": {
   "codemirror_mode": {
    "name": "ipython",
    "version": 3
   },
   "file_extension": ".py",
   "mimetype": "text/x-python",
   "name": "python",
   "nbconvert_exporter": "python",
   "pygments_lexer": "ipython3",
   "version": "3.8.5"
  }
 },
 "nbformat": 4,
 "nbformat_minor": 4
}
